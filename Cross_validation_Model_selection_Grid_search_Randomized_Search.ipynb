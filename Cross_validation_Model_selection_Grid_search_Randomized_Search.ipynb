{
  "nbformat": 4,
  "nbformat_minor": 0,
  "metadata": {
    "colab": {
      "name": "Cross_validation_Model_selection_Grid_search_Randomized_Search.ipynb",
      "provenance": [],
      "authorship_tag": "ABX9TyNJZBNM15dTr+4OnJvkG3pa",
      "include_colab_link": true
    },
    "kernelspec": {
      "name": "python3",
      "display_name": "Python 3"
    }
  },
  "cells": [
    {
      "cell_type": "markdown",
      "metadata": {
        "id": "view-in-github",
        "colab_type": "text"
      },
      "source": [
        "<a href=\"https://colab.research.google.com/github/ishandahal/ml_model_evaluation/blob/main/Cross_validation_Model_selection_Grid_search_Randomized_Search.ipynb\" target=\"_parent\"><img src=\"https://colab.research.google.com/assets/colab-badge.svg\" alt=\"Open In Colab\"/></a>"
      ]
    },
    {
      "cell_type": "code",
      "metadata": {
        "id": "cEzID4v2tf8P"
      },
      "source": [
        "pip install watermark"
      ],
      "execution_count": null,
      "outputs": []
    },
    {
      "cell_type": "code",
      "metadata": {
        "colab": {
          "base_uri": "https://localhost:8080/"
        },
        "id": "bKqocgj-svy0",
        "outputId": "0f646d41-7ea1-4cc1-e573-78e91d114d86"
      },
      "source": [
        "%load_ext watermark\n",
        "%watermark -a 'ishan dahal' -u -d -v -p numpy,mlxtend,matplotlib,sklearn"
      ],
      "execution_count": 3,
      "outputs": [
        {
          "output_type": "stream",
          "text": [
            "ishan dahal \n",
            "last updated: 2020-11-24 \n",
            "\n",
            "CPython 3.6.9\n",
            "IPython 5.5.0\n",
            "\n",
            "numpy 1.18.5\n",
            "mlxtend 0.14.0\n",
            "matplotlib 3.2.2\n",
            "sklearn 0.0\n"
          ],
          "name": "stdout"
        }
      ]
    },
    {
      "cell_type": "code",
      "metadata": {
        "id": "5_VB2k4BtiwC"
      },
      "source": [
        "import numpy as np\n",
        "import matplotlib.pyplot as plt"
      ],
      "execution_count": 4,
      "outputs": []
    },
    {
      "cell_type": "markdown",
      "metadata": {
        "id": "JkmNsKuGt78u"
      },
      "source": [
        "### GridSearch\n",
        "```GridSearchCV``` is useful for hyperparameter tuning"
      ]
    },
    {
      "cell_type": "code",
      "metadata": {
        "id": "njGLQkU6uImf"
      },
      "source": [
        "from sklearn.tree import DecisionTreeClassifier\n",
        "from mlxtend.data import iris_data\n",
        "from sklearn.model_selection import train_test_split\n",
        "\n",
        "X, y = iris_data()\n",
        "X_train, X_test, y_train, y_test = train_test_split(X, y, random_state=123, test_size=.15,\n",
        "                                                    shuffle=True, stratify=y)"
      ],
      "execution_count": 5,
      "outputs": []
    },
    {
      "cell_type": "code",
      "metadata": {
        "colab": {
          "base_uri": "https://localhost:8080/"
        },
        "id": "8mQCtI8Muqq1",
        "outputId": "f995372e-1383-42f8-eb86-059d0c264da7"
      },
      "source": [
        "from sklearn.model_selection import GridSearchCV\n",
        "\n",
        "param_grid = [{'max_depth': [1, 2, 3, 4, 5, 6, None],\n",
        "               'criterion': ['gini', 'entropy']}]\n",
        "\n",
        "gs = GridSearchCV(estimator = DecisionTreeClassifier(random_state=123),\n",
        "                  param_grid=param_grid,\n",
        "                  refit=True,\n",
        "                  cv=10,\n",
        "                  n_jobs=None)\n",
        "gs.fit(X_train, y_train)\n",
        "\n",
        "print(f\"Brest Accuracy: {gs.best_score_*100:.2f}%\")\n",
        "print(f\"Best Params: {gs.best_params_}\")"
      ],
      "execution_count": 6,
      "outputs": [
        {
          "output_type": "stream",
          "text": [
            "Brest Accuracy: 96.09%\n",
            "Best Params: {'criterion': 'gini', 'max_depth': 3}\n"
          ],
          "name": "stdout"
        }
      ]
    },
    {
      "cell_type": "code",
      "metadata": {
        "colab": {
          "base_uri": "https://localhost:8080/"
        },
        "id": "qg0fX9TVvrju",
        "outputId": "ada76512-f6ce-4832-e569-6df359a67830"
      },
      "source": [
        "for i in range(len(gs.cv_results_['mean_test_score'])):\n",
        "    print(gs.cv_results_['mean_test_score'][i], gs.cv_results_['params'][i])"
      ],
      "execution_count": 7,
      "outputs": [
        {
          "output_type": "stream",
          "text": [
            "0.653846153846154 {'criterion': 'gini', 'max_depth': 1}\n",
            "0.9121794871794873 {'criterion': 'gini', 'max_depth': 2}\n",
            "0.9608974358974359 {'criterion': 'gini', 'max_depth': 3}\n",
            "0.951923076923077 {'criterion': 'gini', 'max_depth': 4}\n",
            "0.9602564102564102 {'criterion': 'gini', 'max_depth': 5}\n",
            "0.9602564102564102 {'criterion': 'gini', 'max_depth': 6}\n",
            "0.9602564102564102 {'criterion': 'gini', 'max_depth': None}\n",
            "0.653846153846154 {'criterion': 'entropy', 'max_depth': 1}\n",
            "0.9121794871794873 {'criterion': 'entropy', 'max_depth': 2}\n",
            "0.9608974358974359 {'criterion': 'entropy', 'max_depth': 3}\n",
            "0.9365384615384617 {'criterion': 'entropy', 'max_depth': 4}\n",
            "0.9448717948717948 {'criterion': 'entropy', 'max_depth': 5}\n",
            "0.9525641025641025 {'criterion': 'entropy', 'max_depth': 6}\n",
            "0.9525641025641025 {'criterion': 'entropy', 'max_depth': None}\n"
          ],
          "name": "stdout"
        }
      ]
    },
    {
      "cell_type": "markdown",
      "metadata": {
        "id": "Lfr3uOloxl2j"
      },
      "source": [
        "- GridSearchCV automatically refits the best model with the entire training set. \n",
        "- Looking at the heatmap of the results. Note, this only works on 1 or two hyperparameters"
      ]
    },
    {
      "cell_type": "code",
      "metadata": {
        "id": "Z2MSePR7yflq"
      },
      "source": [
        "from mlxtend.plotting import heatmap\n",
        "import numpy as np\n",
        "import pandas as pd\n",
        "\n",
        "grid = np.zeros((2, 7))\n",
        "grid[0, :] = gs.cv_results_['mean_test_score'][:7]\n",
        "grid[1, :] = gs.cv_results_[\"mean_test_score\"][7:]\n",
        "\n",
        "heatmap(grid,\n",
        "        column_names=[1, 2, 3, 4, 5, 6, 'None'],\n",
        "        row_names=['gini', 'entropy'])\n",
        "plt.ylabel('Criterion')\n",
        "plt.xlabel('Max depth')\n",
        "plt.show()"
      ],
      "execution_count": null,
      "outputs": []
    },
    {
      "cell_type": "code",
      "metadata": {
        "colab": {
          "base_uri": "https://localhost:8080/"
        },
        "id": "42-vnzqZza4J",
        "outputId": "38871c10-5c97-4e98-83a9-b88f06578d46"
      },
      "source": [
        "print(f\"Accuracy: {gs.best_estimator_.score(X_test, y_test)*100:.2f}%\")"
      ],
      "execution_count": 9,
      "outputs": [
        {
          "output_type": "stream",
          "text": [
            "Accuracy: 95.65%\n"
          ],
          "name": "stdout"
        }
      ]
    },
    {
      "cell_type": "markdown",
      "metadata": {
        "id": "o73bTtKp1N5h"
      },
      "source": [
        "- ```GridSearchCV``` is also compatible with the .632-Bootstrap iterator"
      ]
    },
    {
      "cell_type": "code",
      "metadata": {
        "colab": {
          "base_uri": "https://localhost:8080/"
        },
        "id": "cuTN63_n1ihr",
        "outputId": "9ad6a7eb-e643-4eb1-d086-244763fdfca3"
      },
      "source": [
        "from sklearn.model_selection import GridSearchCV\n",
        "from mlxtend.evaluate import BootstrapOutOfBag\n",
        "\n",
        "param_grid = [{'max_depth': [1, 2, 3, 4, 5, 6, None],\n",
        "               'criterion': ['gini', 'entropy']}]\n",
        "\n",
        "gs = GridSearchCV(estimator = DecisionTreeClassifier(random_state=123),\n",
        "                  param_grid=param_grid,\n",
        "                  refit=True,\n",
        "                  cv=BootstrapOutOfBag(n_splits=200, random_seed=123),\n",
        "                  n_jobs=None)\n",
        "gs.fit(X_train, y_train)\n",
        "\n",
        "print(f\"Brest Accuracy: {gs.best_score_*100:.2f}%\")\n",
        "print(f\"Best Params: {gs.best_params_}\")\n",
        "print(f\"Accuracy: {gs.best_estimator_.score(X_test, y_test)*100:.2f}\")"
      ],
      "execution_count": 10,
      "outputs": [
        {
          "output_type": "stream",
          "text": [
            "Brest Accuracy: 95.12%\n",
            "Best Params: {'criterion': 'entropy', 'max_depth': 3}\n",
            "Accuracy: 95.65\n"
          ],
          "name": "stdout"
        }
      ]
    },
    {
      "cell_type": "code",
      "metadata": {
        "colab": {
          "base_uri": "https://localhost:8080/"
        },
        "id": "hf_tqlKJ2LCp",
        "outputId": "9be959f0-69d0-4efa-967a-a7f15532d904"
      },
      "source": [
        "best_model_idx = np.argmin(gs.cv_results_['rank_test_score'])\n",
        "scores = [gs.cv_results_[f'split{i}_test_score'][best_model_idx] for i in range(200)]\n",
        "\n",
        "bootstrap_percentile_lower = np.percentile(scores, 2.5)\n",
        "bootstrap_percentile_upper = np.percentile(scores, 97.5)\n",
        "print(f\"95% CI: [{100*round(bootstrap_percentile_lower, 4)},\"\n",
        "        f\"{100*round(bootstrap_percentile_upper, 4)}]\")"
      ],
      "execution_count": 11,
      "outputs": [
        {
          "output_type": "stream",
          "text": [
            "95% CI: [89.12,100.0]\n"
          ],
          "name": "stdout"
        }
      ]
    },
    {
      "cell_type": "markdown",
      "metadata": {
        "id": "UPj3yomm4JtJ"
      },
      "source": [
        "- Note feature scaling does not matter in decisions trees but it does matter in other learning algorithms like K-Nearest Neighbors.\n",
        "- To avoid introducing bias, we have to compute the parameters for scaling (e.g., the mean and std in context of z-score normalization) on the training fold to scale the training and test fold in a given iteration. \n",
        "- To make this more convenient, this is where scikit_learn's ```Pipeline``` class (or ```make_pipeline``` function) comes in handy as the next cell demonstrates"
      ]
    },
    {
      "cell_type": "code",
      "metadata": {
        "colab": {
          "base_uri": "https://localhost:8080/"
        },
        "id": "Z5RlyPpa5nzc",
        "outputId": "03801aaf-d29e-4efe-88f9-808050ddbd67"
      },
      "source": [
        "from sklearn.pipeline import make_pipeline\n",
        "from sklearn.preprocessing import StandardScaler\n",
        "from sklearn.neighbors import KNeighborsClassifier\n",
        "\n",
        "pipe = make_pipeline(StandardScaler(),\n",
        "                     KNeighborsClassifier())\n",
        "\n",
        "param_grid = [{'kneighborsclassifier__n_neighbors': list(range(1, 16)),\n",
        "               'kneighborsclassifier__p': [1, 2]}]\n",
        "\n",
        "gs = GridSearchCV(estimator=pipe,\n",
        "                  param_grid=param_grid,\n",
        "                  n_jobs=-1,\n",
        "                  cv=BootstrapOutOfBag(n_splits=200, random_seed=123))\n",
        "gs.fit(X_train, y_train)\n",
        "\n",
        "print(f\"Best Accuracy: {gs.best_score_*100:.2f}%\")\n",
        "print(f\"Best Params: {gs.best_params_}\")\n",
        "print(f\"Accuracy: {gs.best_estimator_.score(X_test, y_test)*100:.2f}%\")"
      ],
      "execution_count": 12,
      "outputs": [
        {
          "output_type": "stream",
          "text": [
            "Best Accuracy: 94.78%\n",
            "Best Params: {'kneighborsclassifier__n_neighbors': 12, 'kneighborsclassifier__p': 1}\n",
            "Accuracy: 91.30%\n"
          ],
          "name": "stdout"
        }
      ]
    },
    {
      "cell_type": "markdown",
      "metadata": {
        "id": "k3Syrk467NCU"
      },
      "source": [
        "### Randomized Search\n",
        "- Each setting is sampled from a distribution (discrete or continuous) over possible parameter values\n",
        "- Instead of running exhaustive combinations of all combinations of parameters like in ```GridSearch``` ```RandomizedSearchCV``` specifies a certain number of parameters to evaluate in ```n_iter```"
      ]
    },
    {
      "cell_type": "markdown",
      "metadata": {
        "id": "A8e2EQGu9Zus"
      },
      "source": [
        "### ParamSampler\n",
        "- To explain these concepts, let's take a look at the ```ParaSampler``` forst, which is used under the hood of ```RandomizedSearchCV```"
      ]
    },
    {
      "cell_type": "code",
      "metadata": {
        "colab": {
          "base_uri": "https://localhost:8080/"
        },
        "id": "BSGFVqvx-CJQ",
        "outputId": "73b06e11-3f38-45d8-e03c-93d0a9856fef"
      },
      "source": [
        "from sklearn.model_selection import ParameterSampler\n",
        "\n",
        "d = {'parameter 1': [1, 2, 3],\n",
        "     'parameter 2': ['a', 'b']}\n",
        "\n",
        "ps = ParameterSampler(param_distributions=d,\n",
        "                      n_iter=10,\n",
        "                      random_state=123)\n",
        "\n",
        "list(ps)"
      ],
      "execution_count": 13,
      "outputs": [
        {
          "output_type": "stream",
          "text": [
            "/usr/local/lib/python3.6/dist-packages/sklearn/model_selection/_search.py:281: UserWarning: The total space of parameters 6 is smaller than n_iter=10. Running 6 iterations. For exhaustive searches, use GridSearchCV.\n",
            "  % (grid_size, self.n_iter, grid_size), UserWarning)\n"
          ],
          "name": "stderr"
        },
        {
          "output_type": "execute_result",
          "data": {
            "text/plain": [
              "[{'parameter 1': 1, 'parameter 2': 'a'},\n",
              " {'parameter 1': 1, 'parameter 2': 'b'},\n",
              " {'parameter 1': 2, 'parameter 2': 'a'},\n",
              " {'parameter 1': 2, 'parameter 2': 'b'},\n",
              " {'parameter 1': 3, 'parameter 2': 'a'},\n",
              " {'parameter 1': 3, 'parameter 2': 'b'}]"
            ]
          },
          "metadata": {
            "tags": []
          },
          "execution_count": 13
        }
      ]
    },
    {
      "cell_type": "markdown",
      "metadata": {
        "id": "Mm3sJ-Hq-kWN"
      },
      "source": [
        "- We can define probability distributions using SciPy's selection of distributions \n",
        "- Consider a discrete random uniform distribution for parameter 1 (not that in this case, there is a sampling with replacement from the distribution)"
      ]
    },
    {
      "cell_type": "code",
      "metadata": {
        "colab": {
          "base_uri": "https://localhost:8080/"
        },
        "id": "cw5ggzFdNWFc",
        "outputId": "9df4e4bd-3175-498d-ebaf-fc8eef2efb2c"
      },
      "source": [
        "import scipy.stats\n",
        "\n",
        "d = {'parameter 1': scipy.stats.randint(low=1, high=4),\n",
        "     'parameter 2': ['a', 'b']}\n",
        "\n",
        "ps = ParameterSampler(param_distributions=d,\n",
        "                      n_iter=10,\n",
        "                      random_state=123)\n",
        "list(ps)"
      ],
      "execution_count": 14,
      "outputs": [
        {
          "output_type": "execute_result",
          "data": {
            "text/plain": [
              "[{'parameter 1': 3, 'parameter 2': 'b'},\n",
              " {'parameter 1': 3, 'parameter 2': 'a'},\n",
              " {'parameter 1': 1, 'parameter 2': 'a'},\n",
              " {'parameter 1': 3, 'parameter 2': 'b'},\n",
              " {'parameter 1': 3, 'parameter 2': 'b'},\n",
              " {'parameter 1': 2, 'parameter 2': 'a'},\n",
              " {'parameter 1': 2, 'parameter 2': 'a'},\n",
              " {'parameter 1': 2, 'parameter 2': 'a'},\n",
              " {'parameter 1': 2, 'parameter 2': 'a'},\n",
              " {'parameter 1': 3, 'parameter 2': 'a'}]"
            ]
          },
          "metadata": {
            "tags": []
          },
          "execution_count": 14
        }
      ]
    },
    {
      "cell_type": "markdown",
      "metadata": {
        "id": "eOkiv2f6N3pS"
      },
      "source": [
        "- Example for sampling from a uniform continuous distribution"
      ]
    },
    {
      "cell_type": "code",
      "metadata": {
        "colab": {
          "base_uri": "https://localhost:8080/",
          "height": 265
        },
        "id": "xnAoKbB7OELl",
        "outputId": "ac58dde0-f83c-4f18-bf8e-c104cde9b594"
      },
      "source": [
        "plt.hist(scipy.stats.uniform(loc=0, scale=3).rvs(10000))\n",
        "plt.show()"
      ],
      "execution_count": 15,
      "outputs": [
        {
          "output_type": "display_data",
          "data": {
            "image/png": "[encoded data removed]",
            "text/plain": [
              "<Figure size 432x288 with 1 Axes>"
            ]
          },
          "metadata": {
            "tags": [],
            "needs_background": "light"
          }
        }
      ]
    },
    {
      "cell_type": "code",
      "metadata": {
        "colab": {
          "base_uri": "https://localhost:8080/"
        },
        "id": "kedDwm93ORZE",
        "outputId": "deedb81b-e12a-48dc-8994-03270598a0bb"
      },
      "source": [
        "d = {'parameter 1': scipy.stats.uniform(loc=1, scale=3),\n",
        "     'parameter 2': ['a', 'b']}\n",
        "\n",
        "ps = ParameterSampler(param_distributions=d,\n",
        "                      n_iter=10,\n",
        "                      random_state=123)\n",
        "list(ps)"
      ],
      "execution_count": 16,
      "outputs": [
        {
          "output_type": "execute_result",
          "data": {
            "text/plain": [
              "[{'parameter 1': 3.089407556793585, 'parameter 2': 'a'},\n",
              " {'parameter 1': 2.285412778560477, 'parameter 2': 'a'},\n",
              " {'parameter 1': 2.6539443072486737, 'parameter 2': 'b'},\n",
              " {'parameter 1': 2.473356800297792, 'parameter 2': 'b'},\n",
              " {'parameter 1': 3.9422925951538463, 'parameter 2': 'a'},\n",
              " {'parameter 1': 2.7390828910678304, 'parameter 2': 'b'},\n",
              " {'parameter 1': 2.1763525545824516, 'parameter 2': 'a'},\n",
              " {'parameter 1': 2.88195102801285, 'parameter 2': 'b'},\n",
              " {'parameter 1': 2.3157167340388733, 'parameter 2': 'b'},\n",
              " {'parameter 1': 3.084265531555807, 'parameter 2': 'a'}]"
            ]
          },
          "metadata": {
            "tags": []
          },
          "execution_count": 16
        }
      ]
    },
    {
      "cell_type": "markdown",
      "metadata": {
        "id": "3NcO-gxVOrxs"
      },
      "source": [
        "### RandomizedSearchCV example"
      ]
    },
    {
      "cell_type": "code",
      "metadata": {
        "colab": {
          "base_uri": "https://localhost:8080/",
          "height": 265
        },
        "id": "TIYNi8rpO-jc",
        "outputId": "292004fc-dd0c-4083-f0ad-3caa718c0c2b"
      },
      "source": [
        "plt.hist(scipy.stats.expon(scale=0.4).rvs(1000))\n",
        "plt.show()"
      ],
      "execution_count": 25,
      "outputs": [
        {
          "output_type": "display_data",
          "data": {
            "image/png": "[encoded data removed]",
            "text/plain": [
              "<Figure size 432x288 with 1 Axes>"
            ]
          },
          "metadata": {
            "tags": [],
            "needs_background": "light"
          }
        }
      ]
    },
    {
      "cell_type": "code",
      "metadata": {
        "id": "m5SvyhFKPHF4"
      },
      "source": [
        "from sklearn.experimental import enable_hist_gradient_boosting\n",
        "from sklearn.ensemble import HistGradientBoostingClassifier\n",
        "from sklearn.model_selection import RandomizedSearchCV"
      ],
      "execution_count": 18,
      "outputs": []
    },
    {
      "cell_type": "code",
      "metadata": {
        "colab": {
          "base_uri": "https://localhost:8080/"
        },
        "id": "uRacbhROPoGK",
        "outputId": "a5a85ff8-f960-4d80-aa58-0f99b3ecc99f"
      },
      "source": [
        "gbm = HistGradientBoostingClassifier(random_state=123)\n",
        "\n",
        "d = {'learning_rate': scipy.stats.expon(scale=0.4),\n",
        "     'max_depth': scipy.stats.randint(low=3, high=10),\n",
        "     'l2_regularization': scipy.stats.uniform(loc=0, scale=1)}\n",
        "\n",
        "rcv = RandomizedSearchCV(estimator=gbm,\n",
        "                         param_distributions=d,\n",
        "                         n_iter=200,\n",
        "                         cv=10,\n",
        "                         refit=True,\n",
        "                         random_state=123,\n",
        "                         n_jobs=-1)\n",
        "rcv.fit(X_train, y_train)\n",
        "\n",
        "print(f\"Best Accuracy: {rcv.best_score_*100:.2f}\")\n",
        "print(f\"Best Params: {rcv.best_params_}\")"
      ],
      "execution_count": 19,
      "outputs": [
        {
          "output_type": "stream",
          "text": [
            "Best Accuracy: 96.73\n",
            "Best Params: {'l2_regularization': 0.7770044388897804, 'learning_rate': 0.011352363969357031, 'max_depth': 5}\n"
          ],
          "name": "stdout"
        }
      ]
    }
  ]
}