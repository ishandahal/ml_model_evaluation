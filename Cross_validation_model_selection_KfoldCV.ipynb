{
  "nbformat": 4,
  "nbformat_minor": 0,
  "metadata": {
    "colab": {
      "name": "Cross_validation_model_selection_KfoldCV.ipynb",
      "provenance": [],
      "authorship_tag": "ABX9TyPLRiV+kwqRMQvvcEKVSWgl",
      "include_colab_link": true
    },
    "kernelspec": {
      "name": "python3",
      "display_name": "Python 3"
    }
  },
  "cells": [
    {
      "cell_type": "markdown",
      "metadata": {
        "id": "view-in-github",
        "colab_type": "text"
      },
      "source": [
        "<a href=\"https://colab.research.google.com/github/ishandahal/ml_model_evaluation/blob/main/Cross_validation_model_selection_KfoldCV.ipynb\" target=\"_parent\"><img src=\"https://colab.research.google.com/assets/colab-badge.svg\" alt=\"Open In Colab\"/></a>"
      ]
    },
    {
      "cell_type": "code",
      "metadata": {
        "id": "Q9mFCRT6FmUf"
      },
      "source": [
        "pip install watermark"
      ],
      "execution_count": null,
      "outputs": []
    },
    {
      "cell_type": "code",
      "metadata": {
        "colab": {
          "base_uri": "https://localhost:8080/"
        },
        "id": "RYx5WS3UE_WZ",
        "outputId": "9264528f-365f-4ce6-9d4b-6c0e01db7224"
      },
      "source": [
        "%load_ext watermark\n",
        "%watermark -a 'ishan dahal' -u -d -v -p numpy,mlxtend,matplotlib,sklearn"
      ],
      "execution_count": 7,
      "outputs": [
        {
          "output_type": "stream",
          "text": [
            "ishan dahal \n",
            "last updated: 2020-11-23 \n",
            "\n",
            "CPython 3.6.9\n",
            "IPython 5.5.0\n",
            "\n",
            "numpy 1.18.5\n",
            "mlxtend 0.14.0\n",
            "matplotlib 3.2.2\n",
            "sklearn 0.0\n"
          ],
          "name": "stdout"
        }
      ]
    },
    {
      "cell_type": "code",
      "metadata": {
        "id": "N6ftSSNSFh7B"
      },
      "source": [
        "import numpy as np\n",
        "import matplotlib.pyplot as plt"
      ],
      "execution_count": 8,
      "outputs": []
    },
    {
      "cell_type": "markdown",
      "metadata": {
        "id": "r4lbzQUvF_rw"
      },
      "source": [
        "### K-fold Cross-Validation in Scikit-Learn\n",
        "- Simple demonstration of using cross-validation iterator in scikit-learn"
      ]
    },
    {
      "cell_type": "code",
      "metadata": {
        "colab": {
          "base_uri": "https://localhost:8080/"
        },
        "id": "e8IGjolnHEC0",
        "outputId": "8a193739-ff60-4b14-f63e-ce9be22aa1b6"
      },
      "source": [
        "from sklearn.model_selection import KFold\n",
        "\n",
        "rng = np.random.RandomState(123)\n",
        "\n",
        "y = np.array([0, 0, 0, 0, 0, 1, 1, 1, 1, 1])\n",
        "X = rng.random_sample((y.shape[0], 4))\n",
        "\n",
        "cv = KFold(n_splits=5)\n",
        "\n",
        "for k in cv.split(X, y):\n",
        "    print(k)"
      ],
      "execution_count": 13,
      "outputs": [
        {
          "output_type": "stream",
          "text": [
            "(array([2, 3, 4, 5, 6, 7, 8, 9]), array([0, 1]))\n",
            "(array([0, 1, 4, 5, 6, 7, 8, 9]), array([2, 3]))\n",
            "(array([0, 1, 2, 3, 6, 7, 8, 9]), array([4, 5]))\n",
            "(array([0, 1, 2, 3, 4, 5, 8, 9]), array([6, 7]))\n",
            "(array([0, 1, 2, 3, 4, 5, 6, 7]), array([8, 9]))\n"
          ],
          "name": "stdout"
        }
      ]
    },
    {
      "cell_type": "markdown",
      "metadata": {
        "id": "OvJazNeAHqYj"
      },
      "source": [
        "In practice we shuffle the dataset, because if the class labels are ordered it can lead to classes not well represented in the training and test set folds."
      ]
    },
    {
      "cell_type": "code",
      "metadata": {
        "colab": {
          "base_uri": "https://localhost:8080/"
        },
        "id": "U38i1aRDIlrZ",
        "outputId": "b37e944d-2e3c-4a86-b4ed-6e7cfe6fc54b"
      },
      "source": [
        "cv = KFold(n_splits=5, random_state=123, shuffle=True)\n",
        "\n",
        "for k in cv.split(X, y):\n",
        "    print(k)"
      ],
      "execution_count": 16,
      "outputs": [
        {
          "output_type": "stream",
          "text": [
            "(array([1, 2, 3, 5, 6, 7, 8, 9]), array([0, 4]))\n",
            "(array([0, 1, 2, 3, 4, 6, 8, 9]), array([5, 7]))\n",
            "(array([0, 1, 2, 4, 5, 6, 7, 9]), array([3, 8]))\n",
            "(array([0, 2, 3, 4, 5, 7, 8, 9]), array([1, 6]))\n",
            "(array([0, 1, 3, 4, 5, 6, 7, 8]), array([2, 9]))\n"
          ],
          "name": "stdout"
        }
      ]
    },
    {
      "cell_type": "markdown",
      "metadata": {
        "id": "wUmaoAhIIyfZ"
      },
      "source": [
        "KFold iterator only provides us with indices; in practice we are interested in the values of the features and labels"
      ]
    },
    {
      "cell_type": "code",
      "metadata": {
        "colab": {
          "base_uri": "https://localhost:8080/"
        },
        "id": "Nv0kq_bBJ12c",
        "outputId": "dba1c60b-09da-4161-f567-35f4d100b05a"
      },
      "source": [
        "cv = KFold(n_splits=5, shuffle=True, random_state=123)\n",
        "\n",
        "for train_idx, valid_idx in cv.split(X, y):\n",
        "    print(f\"shuffled training labels {y[valid_idx]}\")"
      ],
      "execution_count": 21,
      "outputs": [
        {
          "output_type": "stream",
          "text": [
            "shuffled training labels [0 0]\n",
            "shuffled training labels [1 1]\n",
            "shuffled training labels [0 1]\n",
            "shuffled training labels [0 1]\n",
            "shuffled training labels [0 1]\n"
          ],
          "name": "stdout"
        }
      ]
    },
    {
      "cell_type": "markdown",
      "metadata": {
        "id": "v4RSMMkBKKNY"
      },
      "source": [
        "Especially for smaller datasets it is crucial to stratify the splits. This ensures the splits are balanced. "
      ]
    },
    {
      "cell_type": "code",
      "metadata": {
        "colab": {
          "base_uri": "https://localhost:8080/"
        },
        "id": "vqav4XwQLGhW",
        "outputId": "b8b05f5b-63a0-45dd-f0ad-f940e800a57b"
      },
      "source": [
        "from sklearn.model_selection import StratifiedKFold\n",
        "\n",
        "cv = StratifiedKFold(n_splits=5, random_state=123, shuffle=True)\n",
        "\n",
        "for train_idx, valid_idx in cv.split(X, y):\n",
        "    print(f\"training labels {y[train_idx]} valid labels {y[valid_idx]}\")"
      ],
      "execution_count": 24,
      "outputs": [
        {
          "output_type": "stream",
          "text": [
            "training labels [0 0 0 0 1 1 1 1] valid labels [0 1]\n",
            "training labels [0 0 0 0 1 1 1 1] valid labels [0 1]\n",
            "training labels [0 0 0 0 1 1 1 1] valid labels [0 1]\n",
            "training labels [0 0 0 0 1 1 1 1] valid labels [0 1]\n",
            "training labels [0 0 0 0 1 1 1 1] valid labels [0 1]\n"
          ],
          "name": "stdout"
        }
      ]
    },
    {
      "cell_type": "markdown",
      "metadata": {
        "id": "PIhJnL17Lpsk"
      },
      "source": [
        "- Using the cross validation iterators to fit and evaluate learning algorithms "
      ]
    },
    {
      "cell_type": "code",
      "metadata": {
        "colab": {
          "base_uri": "https://localhost:8080/"
        },
        "id": "-ve2eRDCMVd_",
        "outputId": "925e2158-9b89-42a3-9f5b-ff070061d125"
      },
      "source": [
        "from sklearn.tree import DecisionTreeClassifier\n",
        "from mlxtend.data import iris_data\n",
        "from sklearn.model_selection import train_test_split\n",
        "\n",
        "X, y = iris_data()\n",
        "X_train, X_test, y_train, y_test = train_test_split(X, y, random_state=123, test_size=0.15,\n",
        "                                                    shuffle=True, stratify=y)\n",
        "cv = StratifiedKFold(n_splits=10, random_state=123, shuffle=True)\n",
        "\n",
        "kfold_acc = 0.\n",
        "for train_idx, valid_idx in cv.split(X_train, y_train):\n",
        "    clf = DecisionTreeClassifier(random_state=123, max_depth=3).fit(X_train[train_idx],\n",
        "                                                                    y_train[train_idx])\n",
        "    y_pred = clf.predict(X_train[valid_idx])\n",
        "    acc = np.mean(y_pred == y_train[valid_idx])*100\n",
        "    kfold_acc += acc\n",
        "kfold_acc /= 10\n",
        "\n",
        "clf = DecisionTreeClassifier(random_state=123, max_depth=3).fit(X_train, y_train)\n",
        "y_pred = clf.predict(X_test)\n",
        "test_acc = np.mean(y_pred == y_test)*100\n",
        "\n",
        "print(f\"Kfold Accuracy: {kfold_acc:.2f}%\")\n",
        "print(f\"Test Accuracy: {test_acc:.2f}%\")"
      ],
      "execution_count": 35,
      "outputs": [
        {
          "output_type": "stream",
          "text": [
            "Kfold Accuracy: 95.26%\n",
            "Test Accuracy: 95.65%\n"
          ],
          "name": "stdout"
        }
      ]
    },
    {
      "cell_type": "markdown",
      "metadata": {
        "id": "vR0NoosIOuqQ"
      },
      "source": [
        "- ```cross_val_score``` is a more convenient way to do the above. It uses stratify as default.\n"
      ]
    },
    {
      "cell_type": "code",
      "metadata": {
        "colab": {
          "base_uri": "https://localhost:8080/"
        },
        "id": "IQZD2E9RQBNk",
        "outputId": "fcc129ba-98e2-4c3d-f2d0-f58fc9ffb163"
      },
      "source": [
        "from sklearn.model_selection import cross_val_score\n",
        "\n",
        "cv_acc = cross_val_score(estimator=DecisionTreeClassifier(random_state=123, max_depth=3),\n",
        "                         X=X_train,\n",
        "                         y=y_train,\n",
        "                         cv=10,\n",
        "                         n_jobs=-1)\n",
        "print(f\"Kfold Accuracy: {np.mean(cv_acc)*100:.2f}\")"
      ],
      "execution_count": 49,
      "outputs": [
        {
          "output_type": "stream",
          "text": [
            "Kfold Accuracy: 96.09\n"
          ],
          "name": "stdout"
        }
      ]
    },
    {
      "cell_type": "markdown",
      "metadata": {
        "id": "kosZhabNQwH8"
      },
      "source": [
        "- We can provide our own cross-validation iterator for convenience."
      ]
    },
    {
      "cell_type": "code",
      "metadata": {
        "colab": {
          "base_uri": "https://localhost:8080/"
        },
        "id": "hkothb0cQ4DE",
        "outputId": "34e6ecb7-a5cd-42ea-b785-8ca17ae0b259"
      },
      "source": [
        "from sklearn.model_selection import cross_val_score\n",
        "\n",
        "cv_acc = cross_val_score(estimator=DecisionTreeClassifier(random_state=123, max_depth=3),\n",
        "                         X=X_train,\n",
        "                         y=y_train,\n",
        "                         cv=StratifiedKFold(n_splits=10, random_state=123, shuffle=True),\n",
        "                         n_jobs=-1)\n",
        "print(f\"Kfold Accuracy: {np.mean(cv_acc)*100:.2f}\")"
      ],
      "execution_count": 50,
      "outputs": [
        {
          "output_type": "stream",
          "text": [
            "Kfold Accuracy: 95.26\n"
          ],
          "name": "stdout"
        }
      ]
    },
    {
      "cell_type": "markdown",
      "metadata": {
        "id": "CVy-Pl_VRhMw"
      },
      "source": [
        "### Bootstrap\n",
        "Using Bootstrap samples analogous to KFold"
      ]
    },
    {
      "cell_type": "code",
      "metadata": {
        "colab": {
          "base_uri": "https://localhost:8080/"
        },
        "id": "pOr5yAC2SM93",
        "outputId": "3c633bc0-37e2-4b7c-e0ec-a21e676904cb"
      },
      "source": [
        "from mlxtend.evaluate import BootstrapOutOfBag\n",
        "\n",
        "oob = BootstrapOutOfBag(n_splits=5, random_seed=99)\n",
        "for train, test in oob.split(np.array([1, 2, 3, 4, 5])):\n",
        "    print(train, test)"
      ],
      "execution_count": 47,
      "outputs": [
        {
          "output_type": "stream",
          "text": [
            "[1 3 1 0 1] [2 4]\n",
            "[0 2 4 4 1] [3]\n",
            "[3 1 1 0 3] [2 4]\n",
            "[3 4 2 0 4] [1]\n",
            "[0 0 4 1 3] [2]\n"
          ],
          "name": "stdout"
        }
      ]
    },
    {
      "cell_type": "markdown",
      "metadata": {
        "id": "-N2aSHxOS5ht"
      },
      "source": [
        "Analogous to ```KFold``` iterator we can use bootstrap out of bag in ```cross_val_score``` "
      ]
    },
    {
      "cell_type": "code",
      "metadata": {
        "colab": {
          "base_uri": "https://localhost:8080/"
        },
        "id": "twE3iJlIUyTj",
        "outputId": "c60009e4-7a67-4731-e617-310af7060945"
      },
      "source": [
        "cv_acc = cross_val_score(estimator=DecisionTreeClassifier(random_state=99, max_depth=3),\n",
        "                         X=X_train,\n",
        "                         y=y_train,\n",
        "                         cv=BootstrapOutOfBag(n_splits=5, random_seed=99),\n",
        "                         n_jobs=-1)\n",
        "print(f\"Ffold Accuracy: {np.mean(cv_acc)*100:.2f}\")"
      ],
      "execution_count": 52,
      "outputs": [
        {
          "output_type": "stream",
          "text": [
            "Ffold Accuracy: 96.75\n"
          ],
          "name": "stdout"
        }
      ]
    },
    {
      "cell_type": "markdown",
      "metadata": {
        "id": "2QkGUyXHSgmK"
      },
      "source": [
        "Similar ```cross_val_score``` we can use ```bootstrap_point632_score```, which implements the .632-Bootstrap method which is less pessimistically biased than out-of-bag bootstrap"
      ]
    },
    {
      "cell_type": "code",
      "metadata": {
        "id": "D3dW3rS9TOh6",
        "colab": {
          "base_uri": "https://localhost:8080/"
        },
        "outputId": "bd304751-aa55-47ab-b76b-d8163be2db93"
      },
      "source": [
        "from mlxtend.evaluate import bootstrap_point632_score\n",
        "\n",
        "cv_acc = bootstrap_point632_score(estimator=DecisionTreeClassifier(random_state=123, max_depth=3),\n",
        "                                  X=X_train,\n",
        "                                  y=y_train,\n",
        "                                  random_seed=99)\n",
        "print(f\"OOB Bootstrap Accuracy: {np.mean(cv_acc)*100:.2f}\")"
      ],
      "execution_count": 55,
      "outputs": [
        {
          "output_type": "stream",
          "text": [
            "OOB Bootstrap Accuracy: 96.15\n"
          ],
          "name": "stdout"
        }
      ]
    },
    {
      "cell_type": "markdown",
      "metadata": {
        "id": "CnUK-zY-ViNL"
      },
      "source": [
        "By default, ```bootstrap_point632_score uses the setting method='.632'\n",
        "By setting method='.632+', we can also perform .632+ bootstrap which corrects for the optimism bias (shown below)"
      ]
    },
    {
      "cell_type": "code",
      "metadata": {
        "colab": {
          "base_uri": "https://localhost:8080/"
        },
        "id": "Ci8s9D5kWc7i",
        "outputId": "6ec77034-ef18-4c28-bbe9-a870e281c7e8"
      },
      "source": [
        "cv_acc = bootstrap_point632_score(estimator=DecisionTreeClassifier(random_state=123, max_depth=3),\n",
        "                                  X=X_train,\n",
        "                                  y=y_train,\n",
        "                                  method='.632+',\n",
        "                                  random_seed=99)\n",
        "print(f\"OOB Bootstrap Accuracy: {np.mean(cv_acc)*100:.2f}\")"
      ],
      "execution_count": 56,
      "outputs": [
        {
          "output_type": "stream",
          "text": [
            "OOB Bootstrap Accuracy: 96.02\n"
          ],
          "name": "stdout"
        }
      ]
    },
    {
      "cell_type": "markdown",
      "metadata": {
        "id": "5IeH96TvW57s"
      },
      "source": [
        "We can run a regular bootstrap by setting method to 'oob'."
      ]
    },
    {
      "cell_type": "code",
      "metadata": {
        "colab": {
          "base_uri": "https://localhost:8080/"
        },
        "id": "Jb4ikJSLW0q1",
        "outputId": "2fe7e952-49d5-4053-b4bf-28ec49a4a34d"
      },
      "source": [
        "cv_acc = bootstrap_point632_score(estimator=DecisionTreeClassifier(random_state=123, max_depth=3),\n",
        "                                  X=X_train,\n",
        "                                  y=y_train,\n",
        "                                  method='oob',\n",
        "                                  random_seed=99)\n",
        "print(f\"OOB Bootstrap Accuracy: {np.mean(cv_acc)*100:.2f}\")"
      ],
      "execution_count": 57,
      "outputs": [
        {
          "output_type": "stream",
          "text": [
            "OOB Bootstrap Accuracy: 94.77\n"
          ],
          "name": "stdout"
        }
      ]
    },
    {
      "cell_type": "code",
      "metadata": {
        "id": "b4qXp8TYXEfR"
      },
      "source": [
        ""
      ],
      "execution_count": null,
      "outputs": []
    }
  ]
}