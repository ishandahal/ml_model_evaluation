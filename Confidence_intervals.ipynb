{
  "nbformat": 4,
  "nbformat_minor": 0,
  "metadata": {
    "colab": {
      "name": "Confidence_intervals.ipynb",
      "provenance": [],
      "authorship_tag": "ABX9TyPUqYiIpxKT590uMwh1vTDS",
      "include_colab_link": true
    },
    "kernelspec": {
      "name": "python3",
      "display_name": "Python 3"
    }
  },
  "cells": [
    {
      "cell_type": "markdown",
      "metadata": {
        "id": "view-in-github",
        "colab_type": "text"
      },
      "source": [
        "<a href=\"https://colab.research.google.com/github/ishandahal/ml_model_evaluation/blob/main/Confidence_intervals.ipynb\" target=\"_parent\"><img src=\"https://colab.research.google.com/assets/colab-badge.svg\" alt=\"Open In Colab\"/></a>"
      ]
    },
    {
      "cell_type": "markdown",
      "metadata": {
        "id": "DlRXNFaTjiK_"
      },
      "source": [
        "### Confidence intervals"
      ]
    },
    {
      "cell_type": "code",
      "metadata": {
        "id": "72_RcvzvjPB0"
      },
      "source": [
        "import numpy as np\n",
        "import matplotlib.pyplot as plt"
      ],
      "execution_count": 1,
      "outputs": []
    },
    {
      "cell_type": "markdown",
      "metadata": {
        "id": "0etX4r07mOTP"
      },
      "source": [
        "Using Iris data for simulation"
      ]
    },
    {
      "cell_type": "code",
      "metadata": {
        "id": "w6AKlILSmSsn"
      },
      "source": [
        "from mlxtend.data import iris_data\n",
        "from sklearn.neighbors import KNeighborsClassifier\n",
        "from sklearn.model_selection import train_test_split\n",
        "\n",
        "X, y = iris_data()\n",
        "\n",
        "X_train, X_test, y_train, y_test = train_test_split(X, y,\n",
        "                                                    test_size=0.15,\n",
        "                                                    random_state=12345,\n",
        "                                                    stratify=y)\n",
        "clf = KNeighborsClassifier(n_neighbors=3,\n",
        "                           algorithm='kd_tree',\n",
        "                           n_jobs=1)"
      ],
      "execution_count": 2,
      "outputs": []
    },
    {
      "cell_type": "markdown",
      "metadata": {
        "id": "OlElf2yAnaIu"
      },
      "source": [
        "Setting up the Bootstrap"
      ]
    },
    {
      "cell_type": "code",
      "metadata": {
        "colab": {
          "base_uri": "https://localhost:8080/"
        },
        "id": "hsWxxqNznhnt",
        "outputId": "575795bc-9edf-46d9-b8cd-3c7826de757e"
      },
      "source": [
        "rng = np.random.RandomState(seed=12345)\n",
        "idx = np.arange(y_train.shape[0])\n",
        "\n",
        "bootstrap_train_accuracies = []\n",
        "\n",
        "for i in range(200):\n",
        "\n",
        "    train_idx = rng.choice(idx, size=idx.shape[0], replace=True)\n",
        "    test_idx = np.setdiff1d(idx, train_idx, assume_unique=False)\n",
        "\n",
        "    boot_train_X, boot_train_y = X_train[train_idx], y_train[train_idx]\n",
        "    boot_test_X, boot_test_y = X_train[test_idx], y_train[test_idx]\n",
        "\n",
        "    clf.fit(boot_train_X, boot_train_y)\n",
        "    acc = clf.score(boot_test_X, boot_test_y)\n",
        "    bootstrap_train_accuracies.append(acc)\n",
        "\n",
        "bootstrap_train_mean = np.mean(bootstrap_train_accuracies)\n",
        "bootstrap_train_mean"
      ],
      "execution_count": 3,
      "outputs": [
        {
          "output_type": "execute_result",
          "data": {
            "text/plain": [
              "0.9552421700709434"
            ]
          },
          "metadata": {
            "tags": []
          },
          "execution_count": 3
        }
      ]
    },
    {
      "cell_type": "markdown",
      "metadata": {
        "id": "BbedkXLfpJnA"
      },
      "source": [
        "Bootstrap sample confidence interval based on OOB estimates"
      ]
    },
    {
      "cell_type": "code",
      "metadata": {
        "colab": {
          "base_uri": "https://localhost:8080/"
        },
        "id": "RJsHp8lPpU5k",
        "outputId": "0aeae5de-a673-4d9e-b029-45870fb40229"
      },
      "source": [
        "se = np.sqrt((1. / (200-1)) * np.sum([(acc - bootstrap_train_mean)**2 \n",
        "                                      for acc in bootstrap_train_accuracies]))\n",
        "ci = 1.97 * se  # 1.97 based on T distribution\n",
        "\n",
        "bootstrap_na_lower = bootstrap_train_mean - ci\n",
        "bootstrap_na_upper = bootstrap_train_mean + ci\n",
        "\n",
        "print(bootstrap_na_lower, bootstrap_na_upper)"
      ],
      "execution_count": 4,
      "outputs": [
        {
          "output_type": "stream",
          "text": [
            "0.900528306142954 1.0099560339989329\n"
          ],
          "name": "stdout"
        }
      ]
    },
    {
      "cell_type": "code",
      "metadata": {
        "colab": {
          "base_uri": "https://localhost:8080/",
          "height": 297
        },
        "id": "9kV8r-mXqsOc",
        "outputId": "8f62fc4b-3db6-4938-d782-3f4e541a7bba"
      },
      "source": [
        "fig,ax = plt.subplots(figsize=(8, 4))\n",
        "ax.vlines(bootstrap_train_mean, [0], 80, lw=2.5, linestyle='-', label='boot strap mean')\n",
        "ax.vlines(bootstrap_na_upper, [0], 15, lw=2.5, linestyle='dotted',\n",
        "          label='CI95 bootstrap, normal approx.', color='C2')\n",
        "ax.vlines(bootstrap_na_lower, [0], 15, lw=2.5, linestyle='dotted', color='C2')\n",
        "ax.hist(bootstrap_train_accuracies, bins=7, color='#0080ff', edgecolor='none', alpha=0.3)\n",
        "plt.legend(loc='upper left')\n",
        "plt.xlim([0.8, 1.1])\n",
        "plt.tight_layout()\n",
        "plt.show()"
      ],
      "execution_count": 5,
      "outputs": [
        {
          "output_type": "display_data",
          "data": {
            "image/png": "[encoded data removed]",
            "text/plain": [
              "<Figure size 576x288 with 1 Axes>"
            ]
          },
          "metadata": {
            "tags": [],
            "needs_background": "light"
          }
        }
      ]
    },
    {
      "cell_type": "markdown",
      "metadata": {
        "id": "Sybp-yWGsg36"
      },
      "source": [
        "Using the Bootstrap Percentile Method"
      ]
    },
    {
      "cell_type": "code",
      "metadata": {
        "colab": {
          "base_uri": "https://localhost:8080/"
        },
        "id": "TSezfpcSsqRn",
        "outputId": "c2a04696-8c56-457e-8f76-8a827ebb2ca5"
      },
      "source": [
        "bootstrap_percentile_lower = np.percentile(bootstrap_train_accuracies, 2.5)\n",
        "bootstrap_percentile_upper = np.percentile(bootstrap_train_accuracies, 97.5)\n",
        "\n",
        "print(bootstrap_percentile_lower, bootstrap_percentile_upper)"
      ],
      "execution_count": 6,
      "outputs": [
        {
          "output_type": "stream",
          "text": [
            "0.8977324263038549 1.0\n"
          ],
          "name": "stdout"
        }
      ]
    },
    {
      "cell_type": "code",
      "metadata": {
        "colab": {
          "base_uri": "https://localhost:8080/",
          "height": 297
        },
        "id": "wHn9jhfMtAn2",
        "outputId": "8c1f81d0-31ed-4e70-fc10-66f01bd3572e"
      },
      "source": [
        "fig,ax = plt.subplots(figsize=(8, 4))\n",
        "ax.vlines(bootstrap_train_mean, [0], 80, lw=2.5, linestyle='-', label='boot strap train mean')\n",
        "ax.vlines(bootstrap_na_upper, [0], 15, lw=2.5, linestyle='dotted',\n",
        "          label='CI95 bootstrap, normal approx.', color='C2')\n",
        "ax.vlines(bootstrap_na_lower, [0], 15, lw=2.5, linestyle='dotted', color='C2')\n",
        "ax.vlines(bootstrap_percentile_upper, [0], 15, lw=2.5, linestyle='dashed',\n",
        "          label='CI95 bootstrap, percentile', color='C1')\n",
        "ax.vlines(bootstrap_percentile_lower, [0], 15, lw=2.5, linestyle='dashed', color='C1')\n",
        "ax.hist(bootstrap_train_accuracies, bins=7, color='#0080ff', edgecolor='none', alpha=0.3)\n",
        "plt.legend(loc='upper left')\n",
        "plt.xlim([0.8, 1.1])\n",
        "plt.tight_layout()\n",
        "plt.show()"
      ],
      "execution_count": 7,
      "outputs": [
        {
          "output_type": "display_data",
          "data": {
            "image/png": "[encoded data removed]",
            "text/plain": [
              "<Figure size 576x288 with 1 Axes>"
            ]
          },
          "metadata": {
            "tags": [],
            "needs_background": "light"
          }
        }
      ]
    },
    {
      "cell_type": "markdown",
      "metadata": {
        "id": "9y2JT_11uoJW"
      },
      "source": [
        "### Normal Approximation Based on the Test Set"
      ]
    },
    {
      "cell_type": "code",
      "metadata": {
        "colab": {
          "base_uri": "https://localhost:8080/"
        },
        "id": "C0Jb3kQ4vz3J",
        "outputId": "51ef0b9d-1074-4a86-e13e-583576e76f0a"
      },
      "source": [
        "clf.fit(X_train, y_train)\n",
        "acc_test_na = clf.score(X_test, y_test)\n",
        "ci_test_na = 1.96 * np.sqrt((acc*(1-acc)) / y_test.shape[0])\n",
        "\n",
        "test_na_lower = acc_test_na - ci_test_na\n",
        "test_na_upper = acc_test_na + ci_test_na\n",
        "\n",
        "print(test_na_lower, test_na_upper)"
      ],
      "execution_count": 8,
      "outputs": [
        {
          "output_type": "stream",
          "text": [
            "0.8756568491299987 1.0373866291308709\n"
          ],
          "name": "stdout"
        }
      ]
    },
    {
      "cell_type": "markdown",
      "metadata": {
        "id": "P7CZge5rwXSK"
      },
      "source": [
        "### Booststrapping the test set predictions\n",
        "Avoids retaining the model.\n",
        "Useful when trainig the model is computationally expensive"
      ]
    },
    {
      "cell_type": "code",
      "metadata": {
        "colab": {
          "base_uri": "https://localhost:8080/"
        },
        "id": "OkoHI1ODwpng",
        "outputId": "b5e94460-1ad7-4ff7-ab26-27ccd202c936"
      },
      "source": [
        "clf.fit(X_train, y_train)\n",
        "\n",
        "predictions_test = clf.predict(X_test)\n",
        "acc_test = np.mean(predictions_test == y_test)\n",
        "\n",
        "rng = np.random.RandomState(seed=12345)\n",
        "idx = np.arange(y_test.shape[0])\n",
        "\n",
        "test_accuracies = []\n",
        "\n",
        "for i in range(200):\n",
        "    pred_idx = rng.choice(idx, size=idx.shape[0], replace=True)\n",
        "    acc_test_boot = np.mean(predictions_test[pred_idx] == y_test[pred_idx])\n",
        "    test_accuracies.append(acc_test_boot)\n",
        "\n",
        "mean_test_accuracies = np.mean(test_accuracies)\n",
        "bootstrap_lower_test = np.percentile(test_accuracies, 2.5)\n",
        "bootstrap_upper_test = np.percentile(test_accuracies, 97.5)\n",
        "\n",
        "print(bootstrap_lower_test, bootstrap_upper_test)"
      ],
      "execution_count": 9,
      "outputs": [
        {
          "output_type": "stream",
          "text": [
            "0.8695652173913043 1.0\n"
          ],
          "name": "stdout"
        }
      ]
    },
    {
      "cell_type": "markdown",
      "metadata": {
        "id": "g8JgNdV2x8Uy"
      },
      "source": [
        "### Using MLXTEND\n",
        "- Normal approximation based on OOB extimates"
      ]
    },
    {
      "cell_type": "code",
      "metadata": {
        "colab": {
          "base_uri": "https://localhost:8080/"
        },
        "id": "VH0biEflyzRi",
        "outputId": "60fad160-f73a-4dd8-f90c-be7963e37e08"
      },
      "source": [
        "from mlxtend.evaluate import bootstrap_point632_score\n",
        "\n",
        "bootstrap_scores = bootstrap_point632_score(clf, X_train, y_train, n_splits=200,\n",
        "                                            method='oob',\n",
        "                                            random_seed=12345)\n",
        "bootstrap_oob_mean = np.mean(bootstrap_scores)\n",
        "print('Mean Bootstrap score', bootstrap_oob_mean)\n",
        "print('Score Std', np.std(bootstrap_scores))\n",
        "\n",
        "bootstrap_oob_percentile_lower = np.percentile(bootstrap_scores, 2.7)\n",
        "bootstrap_oob_percentile_upper = np.percentile(bootstrap_scores, 97.5)\n",
        "print(bootstrap_oob_percentile_lower, bootstrap_oob_percentile_upper)"
      ],
      "execution_count": 10,
      "outputs": [
        {
          "output_type": "stream",
          "text": [
            "Mean Bootstrap score 0.9552421700709434\n",
            "Score Std 0.027704014141397008\n",
            "0.8979591836734695 1.0\n"
          ],
          "name": "stdout"
        }
      ]
    },
    {
      "cell_type": "markdown",
      "metadata": {
        "id": "q1hj8u180Dya"
      },
      "source": [
        "### .632 Bootstrap"
      ]
    },
    {
      "cell_type": "code",
      "metadata": {
        "colab": {
          "base_uri": "https://localhost:8080/"
        },
        "id": "6PENZVAE0KrZ",
        "outputId": "96be1d43-765b-41c9-ac0f-3296e77ece67"
      },
      "source": [
        "bootstrap_scores = bootstrap_point632_score(clf,\n",
        "                                            X_train, y_train,\n",
        "                                            n_splits=200,\n",
        "                                            random_seed=12345)\n",
        "bootstrap_632_mean = np.mean(bootstrap_scores)\n",
        "print(\"Mean Bootstrap score\", bootstrap_632_mean)\n",
        "print(\"Score Std\", np.std(bootstrap_scores))\n",
        "\n",
        "bootstrap_632_percentile_lower = np.percentile(bootstrap_scores, 2.5)\n",
        "bootstrap_632_percentile_upper = np.percentile(bootstrap_scores, 97.5)\n",
        "print(bootstrap_632_percentile_lower, bootstrap_632_percentile_upper)"
      ],
      "execution_count": 11,
      "outputs": [
        {
          "output_type": "stream",
          "text": [
            "Mean Bootstrap score 0.967105807390348\n",
            "Score Std 0.016625361563867836\n",
            "0.930974050743657 0.9942047244094488\n"
          ],
          "name": "stdout"
        }
      ]
    },
    {
      "cell_type": "markdown",
      "metadata": {
        "id": "Q9aSbWGz1QN1"
      },
      "source": [
        "### .632+ Bootstrap\n",
        "This method attempts to address the optimistic bias of regular .632 Bootstrap"
      ]
    },
    {
      "cell_type": "code",
      "metadata": {
        "colab": {
          "base_uri": "https://localhost:8080/"
        },
        "id": "lK68bXqa1lfc",
        "outputId": "4ace2206-be36-4af2-a221-8c39859eadbc"
      },
      "source": [
        "bootstrap_scores = bootstrap_point632_score(clf, X_train, y_train,\n",
        "                                            n_splits=200, method='.632+',\n",
        "                                            random_seed=12345)\n",
        "bootstrap_632plus_mean = np.mean(bootstrap_scores)\n",
        "print(\"Mean Bootstrap score\", bootstrap_632plus_mean)\n",
        "print(\"Score Std\", np.std(bootstrap_scores))\n",
        "\n",
        "bootstrap_632plus_percentile_lower = np.percentile(bootstrap_scores, 2.5)\n",
        "bootstrap_632plus_percentile_upper = np.percentile(bootstrap_scores, 97.5)\n",
        "print(bootstrap_632plus_percentile_lower, bootstrap_632plus_percentile_upper)"
      ],
      "execution_count": 12,
      "outputs": [
        {
          "output_type": "stream",
          "text": [
            "Mean Bootstrap score 0.9662715023612165\n",
            "Score Std 0.017749021064722266\n",
            "0.9279197864953824 0.9941209469907657\n"
          ],
          "name": "stdout"
        }
      ]
    },
    {
      "cell_type": "markdown",
      "metadata": {
        "id": "xRb5I5sgGzXd"
      },
      "source": [
        "### Visualizing all confidence intervals"
      ]
    },
    {
      "cell_type": "code",
      "metadata": {
        "colab": {
          "base_uri": "https://localhost:8080/",
          "height": 297
        },
        "id": "Ts4sgWX4G5t7",
        "outputId": "9b5f5a00-aa1d-4ca4-a573-0f47a11dc942"
      },
      "source": [
        "labels = [\n",
        "    \"Normal approx. sample CI (test set, no bootstrap)\",\n",
        "    \"Bootstrapping the test set, percentile method\",\n",
        "    \"Bootstrap, sample CI\",\n",
        "    \"Bootstrap, percentile method\",\n",
        "    \".632 Bootstrap, percentile method\",  \n",
        "    \".632+ Bootstrap, percentile method\",    \n",
        "]\n",
        "\n",
        "mean = [\n",
        "    acc_test_na,\n",
        "    mean_test_accuracies,\n",
        "    bootstrap_train_mean,\n",
        "    bootstrap_oob_mean,\n",
        "    bootstrap_632_mean,\n",
        "    bootstrap_632plus_mean\n",
        "]\n",
        "\n",
        "lower_error = [\n",
        "    test_na_lower,\n",
        "    bootstrap_lower_test,\n",
        "    bootstrap_na_lower,\n",
        "    bootstrap_oob_percentile_lower,\n",
        "    bootstrap_632_percentile_lower,\n",
        "    bootstrap_632plus_percentile_lower\n",
        "]\n",
        "\n",
        "upper_error = [\n",
        "    test_na_upper,\n",
        "    bootstrap_upper_test,\n",
        "    bootstrap_na_upper,\n",
        "    bootstrap_oob_percentile_upper,\n",
        "    bootstrap_632_percentile_upper,\n",
        "    bootstrap_632plus_percentile_upper    \n",
        "]\n",
        "\n",
        "\n",
        "asymmetric_error = [np.array(mean) - np.array(lower_error), \n",
        "                    np.array(upper_error) - np.array(mean)]\n",
        "\n",
        "\n",
        "fig, ax = plt.subplots(figsize=(9, 4))\n",
        "ax.errorbar(mean, np.arange(len(mean)), xerr=asymmetric_error, fmt='o')\n",
        "ax.set_xlim([0.86, 1.0])\n",
        "ax.set_yticks(np.arange(len(mean)))\n",
        "ax.set_yticklabels(labels)\n",
        "ax.set_xlabel('Prediction Accuracy')\n",
        "ax.set_title('95% confidence intervals')\n",
        "plt.tight_layout()\n",
        "plt.savefig('CI_iris.pdf')\n",
        "plt.show()"
      ],
      "execution_count": 15,
      "outputs": [
        {
          "output_type": "display_data",
          "data": {
            "image/png": "[encoded data removed]",
            "text/plain": [
              "<Figure size 648x288 with 1 Axes>"
            ]
          },
          "metadata": {
            "tags": [],
            "needs_background": "light"
          }
        }
      ]
    },
    {
      "cell_type": "code",
      "metadata": {
        "id": "8dpJsB__HKv9"
      },
      "source": [
        ""
      ],
      "execution_count": null,
      "outputs": []
    }
  ]
}